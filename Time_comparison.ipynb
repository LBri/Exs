{
 "cells": [
  {
   "cell_type": "code",
   "execution_count": 3,
   "metadata": {},
   "outputs": [
    {
     "name": "stdout",
     "output_type": "stream",
     "text": [
      "2\n",
      "10:12\n",
      "21:33\n",
      "The shortest time is: 10:12\n"
     ]
    }
   ],
   "source": [
    "\n",
    "n = int(input()) # number of input\n",
    "q = str(input()) # input of data\n",
    "\n",
    "for time in range(1,n): # create a range corresponding to the number of data inputs, each element called 'time'\n",
    "    a = str(input()) # the first input\n",
    "    b = q # the following input\n",
    "    if a<b: # compare both\n",
    "        q = a # if True, it is the smallest\n",
    "\n",
    "\n",
    "print('The shortest time is:', q)\n"
   ]
  },
  {
   "cell_type": "code",
   "execution_count": null,
   "metadata": {},
   "outputs": [],
   "source": []
  }
 ],
 "metadata": {
  "kernelspec": {
   "display_name": "Python 3",
   "language": "python",
   "name": "python3"
  },
  "language_info": {
   "codemirror_mode": {
    "name": "ipython",
    "version": 3
   },
   "file_extension": ".py",
   "mimetype": "text/x-python",
   "name": "python",
   "nbconvert_exporter": "python",
   "pygments_lexer": "ipython3",
   "version": "3.6.5"
  }
 },
 "nbformat": 4,
 "nbformat_minor": 2
}
