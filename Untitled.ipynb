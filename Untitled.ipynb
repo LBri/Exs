{
 "cells": [
  {
   "cell_type": "code",
   "execution_count": null,
   "metadata": {},
   "outputs": [],
   "source": [
    "# -*- coding: utf-8 -*-\n",
    "\"\"\"\n",
    "Created on Mon Oct 29 14:34:40 2018\n",
    "\n",
    "@author: brich\n",
    "\"\"\"\n",
    "#path = 'C:/Users/brich/Desktop/Random_Python_Files/competition_times.txt'\n",
    "#numbers = open(path, 'r', newline= '\\n')\n",
    "#print (numbers)\n",
    "\n",
    "#import sys\n",
    "\n",
    "time = ('3\\n10:08:32\\n10:55:20\\n12:59:59\\n')\n",
    "\n",
    "### Nefunguje. Najdi nový kód pro Jupyter.\n",
    "\n",
    "'''\n",
    "n = time.split()[:1]\n",
    "s_time = time.split()[1:]\n",
    "\n",
    "q = s_time[0]\n",
    "\n",
    "r = max(s_time)\n",
    "s = min(s_time)\n",
    "\n",
    "\n",
    "#q = input()\n",
    "\n",
    "for time in s_time: # How to make it three times?\n",
    "    #t = sep_time.split(':')\n",
    "    a = time\n",
    "    b = q\n",
    "    if a<b:\n",
    "        q = time\n",
    "\n",
    "\n",
    "#print(q)\n",
    "print(r)\n",
    "print(s)\n",
    "'''"
   ]
  }
 ],
 "metadata": {
  "kernelspec": {
   "display_name": "Python 3",
   "language": "python",
   "name": "python3"
  },
  "language_info": {
   "codemirror_mode": {
    "name": "ipython",
    "version": 3
   },
   "file_extension": ".py",
   "mimetype": "text/x-python",
   "name": "python",
   "nbconvert_exporter": "python",
   "pygments_lexer": "ipython3",
   "version": "3.6.5"
  }
 },
 "nbformat": 4,
 "nbformat_minor": 2
}
